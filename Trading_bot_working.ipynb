{
 "cells": [
  {
   "cell_type": "code",
   "execution_count": 1,
   "metadata": {
    "colab": {
     "base_uri": "https://localhost:8080/"
    },
    "id": "a9bhyHuNl83k",
    "outputId": "0d32d492-3445-4cd4-a198-a4b0f864d29b"
   },
   "outputs": [
    {
     "name": "stdout",
     "output_type": "stream",
     "text": [
      "Requirement already satisfied: numpy in d:\\anaconda\\lib\\site-packages (1.26.4)Note: you may need to restart the kernel to use updated packages.\n",
      "\n",
      "Requirement already satisfied: pandas in d:\\anaconda\\lib\\site-packages (2.2.2)\n",
      "Requirement already satisfied: yfinance in d:\\anaconda\\lib\\site-packages (0.2.52)\n",
      "Requirement already satisfied: scikit-learn in d:\\anaconda\\lib\\site-packages (1.4.2)\n",
      "Requirement already satisfied: tensorflow in d:\\anaconda\\lib\\site-packages (2.18.0)\n",
      "Requirement already satisfied: alpaca-trade-api in d:\\anaconda\\lib\\site-packages (3.2.0)\n",
      "Requirement already satisfied: python-dateutil>=2.8.2 in c:\\users\\hp\\appdata\\roaming\\python\\python312\\site-packages (from pandas) (2.9.0.post0)\n",
      "Requirement already satisfied: pytz>=2020.1 in d:\\anaconda\\lib\\site-packages (from pandas) (2024.1)\n",
      "Requirement already satisfied: tzdata>=2022.7 in d:\\anaconda\\lib\\site-packages (from pandas) (2023.3)\n",
      "Requirement already satisfied: requests>=2.31 in d:\\anaconda\\lib\\site-packages (from yfinance) (2.32.2)\n",
      "Requirement already satisfied: multitasking>=0.0.7 in d:\\anaconda\\lib\\site-packages (from yfinance) (0.0.11)\n",
      "Requirement already satisfied: lxml>=4.9.1 in d:\\anaconda\\lib\\site-packages (from yfinance) (5.2.1)\n",
      "Requirement already satisfied: platformdirs>=2.0.0 in c:\\users\\hp\\appdata\\roaming\\python\\python312\\site-packages (from yfinance) (4.2.2)\n",
      "Requirement already satisfied: frozendict>=2.3.4 in d:\\anaconda\\lib\\site-packages (from yfinance) (2.4.2)\n",
      "Requirement already satisfied: peewee>=3.16.2 in d:\\anaconda\\lib\\site-packages (from yfinance) (3.17.8)\n",
      "Requirement already satisfied: beautifulsoup4>=4.11.1 in d:\\anaconda\\lib\\site-packages (from yfinance) (4.12.3)\n",
      "Requirement already satisfied: html5lib>=1.1 in d:\\anaconda\\lib\\site-packages (from yfinance) (1.1)\n",
      "Requirement already satisfied: scipy>=1.6.0 in d:\\anaconda\\lib\\site-packages (from scikit-learn) (1.13.1)\n",
      "Requirement already satisfied: joblib>=1.2.0 in d:\\anaconda\\lib\\site-packages (from scikit-learn) (1.4.2)\n",
      "Requirement already satisfied: threadpoolctl>=2.0.0 in d:\\anaconda\\lib\\site-packages (from scikit-learn) (2.2.0)\n",
      "Requirement already satisfied: tensorflow-intel==2.18.0 in d:\\anaconda\\lib\\site-packages (from tensorflow) (2.18.0)\n",
      "Requirement already satisfied: absl-py>=1.0.0 in d:\\anaconda\\lib\\site-packages (from tensorflow-intel==2.18.0->tensorflow) (2.1.0)\n",
      "Requirement already satisfied: astunparse>=1.6.0 in d:\\anaconda\\lib\\site-packages (from tensorflow-intel==2.18.0->tensorflow) (1.6.3)\n",
      "Requirement already satisfied: flatbuffers>=24.3.25 in d:\\anaconda\\lib\\site-packages (from tensorflow-intel==2.18.0->tensorflow) (25.1.24)\n",
      "Requirement already satisfied: gast!=0.5.0,!=0.5.1,!=0.5.2,>=0.2.1 in d:\\anaconda\\lib\\site-packages (from tensorflow-intel==2.18.0->tensorflow) (0.6.0)\n",
      "Requirement already satisfied: google-pasta>=0.1.1 in d:\\anaconda\\lib\\site-packages (from tensorflow-intel==2.18.0->tensorflow) (0.2.0)\n",
      "Requirement already satisfied: libclang>=13.0.0 in d:\\anaconda\\lib\\site-packages (from tensorflow-intel==2.18.0->tensorflow) (18.1.1)\n",
      "Requirement already satisfied: opt-einsum>=2.3.2 in d:\\anaconda\\lib\\site-packages (from tensorflow-intel==2.18.0->tensorflow) (3.4.0)\n",
      "Requirement already satisfied: packaging in d:\\anaconda\\lib\\site-packages (from tensorflow-intel==2.18.0->tensorflow) (23.2)\n",
      "Requirement already satisfied: protobuf!=4.21.0,!=4.21.1,!=4.21.2,!=4.21.3,!=4.21.4,!=4.21.5,<6.0.0dev,>=3.20.3 in d:\\anaconda\\lib\\site-packages (from tensorflow-intel==2.18.0->tensorflow) (3.20.3)\n",
      "Requirement already satisfied: setuptools in d:\\anaconda\\lib\\site-packages (from tensorflow-intel==2.18.0->tensorflow) (69.5.1)\n",
      "Requirement already satisfied: six>=1.12.0 in c:\\users\\hp\\appdata\\roaming\\python\\python312\\site-packages (from tensorflow-intel==2.18.0->tensorflow) (1.16.0)\n",
      "Requirement already satisfied: termcolor>=1.1.0 in d:\\anaconda\\lib\\site-packages (from tensorflow-intel==2.18.0->tensorflow) (2.5.0)\n",
      "Requirement already satisfied: typing-extensions>=3.6.6 in d:\\anaconda\\lib\\site-packages (from tensorflow-intel==2.18.0->tensorflow) (4.11.0)\n",
      "Requirement already satisfied: wrapt>=1.11.0 in d:\\anaconda\\lib\\site-packages (from tensorflow-intel==2.18.0->tensorflow) (1.14.1)\n",
      "Requirement already satisfied: grpcio<2.0,>=1.24.3 in d:\\anaconda\\lib\\site-packages (from tensorflow-intel==2.18.0->tensorflow) (1.70.0)\n",
      "Requirement already satisfied: tensorboard<2.19,>=2.18 in d:\\anaconda\\lib\\site-packages (from tensorflow-intel==2.18.0->tensorflow) (2.18.0)\n",
      "Requirement already satisfied: keras>=3.5.0 in d:\\anaconda\\lib\\site-packages (from tensorflow-intel==2.18.0->tensorflow) (3.8.0)\n",
      "Requirement already satisfied: h5py>=3.11.0 in d:\\anaconda\\lib\\site-packages (from tensorflow-intel==2.18.0->tensorflow) (3.11.0)\n",
      "Requirement already satisfied: ml-dtypes<0.5.0,>=0.4.0 in d:\\anaconda\\lib\\site-packages (from tensorflow-intel==2.18.0->tensorflow) (0.4.1)\n",
      "Requirement already satisfied: urllib3<2,>1.24 in d:\\anaconda\\lib\\site-packages (from alpaca-trade-api) (1.26.20)\n",
      "Requirement already satisfied: websocket-client<2,>=0.56.0 in d:\\anaconda\\lib\\site-packages (from alpaca-trade-api) (1.8.0)\n",
      "Requirement already satisfied: websockets<11,>=9.0 in d:\\anaconda\\lib\\site-packages (from alpaca-trade-api) (10.4)\n",
      "Requirement already satisfied: msgpack==1.0.3 in d:\\anaconda\\lib\\site-packages (from alpaca-trade-api) (1.0.3)\n",
      "Requirement already satisfied: aiohttp<4,>=3.8.3 in d:\\anaconda\\lib\\site-packages (from alpaca-trade-api) (3.9.5)\n",
      "Requirement already satisfied: PyYAML==6.0.1 in d:\\anaconda\\lib\\site-packages (from alpaca-trade-api) (6.0.1)\n",
      "Requirement already satisfied: deprecation==2.1.0 in d:\\anaconda\\lib\\site-packages (from alpaca-trade-api) (2.1.0)\n",
      "Requirement already satisfied: aiosignal>=1.1.2 in d:\\anaconda\\lib\\site-packages (from aiohttp<4,>=3.8.3->alpaca-trade-api) (1.2.0)\n",
      "Requirement already satisfied: attrs>=17.3.0 in d:\\anaconda\\lib\\site-packages (from aiohttp<4,>=3.8.3->alpaca-trade-api) (23.1.0)\n",
      "Requirement already satisfied: frozenlist>=1.1.1 in d:\\anaconda\\lib\\site-packages (from aiohttp<4,>=3.8.3->alpaca-trade-api) (1.4.0)\n",
      "Requirement already satisfied: multidict<7.0,>=4.5 in d:\\anaconda\\lib\\site-packages (from aiohttp<4,>=3.8.3->alpaca-trade-api) (6.0.4)\n",
      "Requirement already satisfied: yarl<2.0,>=1.0 in d:\\anaconda\\lib\\site-packages (from aiohttp<4,>=3.8.3->alpaca-trade-api) (1.9.3)\n",
      "Requirement already satisfied: soupsieve>1.2 in d:\\anaconda\\lib\\site-packages (from beautifulsoup4>=4.11.1->yfinance) (2.5)\n",
      "Requirement already satisfied: webencodings in d:\\anaconda\\lib\\site-packages (from html5lib>=1.1->yfinance) (0.5.1)\n",
      "Requirement already satisfied: charset-normalizer<4,>=2 in d:\\anaconda\\lib\\site-packages (from requests>=2.31->yfinance) (2.0.4)\n",
      "Requirement already satisfied: idna<4,>=2.5 in d:\\anaconda\\lib\\site-packages (from requests>=2.31->yfinance) (3.7)\n",
      "Requirement already satisfied: certifi>=2017.4.17 in d:\\anaconda\\lib\\site-packages (from requests>=2.31->yfinance) (2025.1.31)\n",
      "Requirement already satisfied: wheel<1.0,>=0.23.0 in d:\\anaconda\\lib\\site-packages (from astunparse>=1.6.0->tensorflow-intel==2.18.0->tensorflow) (0.43.0)\n",
      "Requirement already satisfied: rich in d:\\anaconda\\lib\\site-packages (from keras>=3.5.0->tensorflow-intel==2.18.0->tensorflow) (13.3.5)\n",
      "Requirement already satisfied: namex in d:\\anaconda\\lib\\site-packages (from keras>=3.5.0->tensorflow-intel==2.18.0->tensorflow) (0.0.8)\n",
      "Requirement already satisfied: optree in d:\\anaconda\\lib\\site-packages (from keras>=3.5.0->tensorflow-intel==2.18.0->tensorflow) (0.14.0)\n",
      "Requirement already satisfied: markdown>=2.6.8 in d:\\anaconda\\lib\\site-packages (from tensorboard<2.19,>=2.18->tensorflow-intel==2.18.0->tensorflow) (3.4.1)\n",
      "Requirement already satisfied: tensorboard-data-server<0.8.0,>=0.7.0 in d:\\anaconda\\lib\\site-packages (from tensorboard<2.19,>=2.18->tensorflow-intel==2.18.0->tensorflow) (0.7.2)\n",
      "Requirement already satisfied: werkzeug>=1.0.1 in d:\\anaconda\\lib\\site-packages (from tensorboard<2.19,>=2.18->tensorflow-intel==2.18.0->tensorflow) (3.0.3)\n",
      "Requirement already satisfied: MarkupSafe>=2.1.1 in d:\\anaconda\\lib\\site-packages (from werkzeug>=1.0.1->tensorboard<2.19,>=2.18->tensorflow-intel==2.18.0->tensorflow) (2.1.3)\n",
      "Requirement already satisfied: markdown-it-py<3.0.0,>=2.2.0 in d:\\anaconda\\lib\\site-packages (from rich->keras>=3.5.0->tensorflow-intel==2.18.0->tensorflow) (2.2.0)\n",
      "Requirement already satisfied: pygments<3.0.0,>=2.13.0 in c:\\users\\hp\\appdata\\roaming\\python\\python312\\site-packages (from rich->keras>=3.5.0->tensorflow-intel==2.18.0->tensorflow) (2.18.0)\n",
      "Requirement already satisfied: mdurl~=0.1 in d:\\anaconda\\lib\\site-packages (from markdown-it-py<3.0.0,>=2.2.0->rich->keras>=3.5.0->tensorflow-intel==2.18.0->tensorflow) (0.1.0)\n"
     ]
    }
   ],
   "source": [
    "pip install numpy pandas yfinance scikit-learn tensorflow alpaca-trade-api"
   ]
  },
  {
   "cell_type": "code",
   "execution_count": 2,
   "metadata": {
    "colab": {
     "base_uri": "https://localhost:8080/"
    },
    "id": "PGrK1MLXl-K8",
    "outputId": "1a68cb9f-c1e4-4558-f033-b0e00e4bf664"
   },
   "outputs": [
    {
     "name": "stdout",
     "output_type": "stream",
     "text": [
      "All imports resolved successfully!\n"
     ]
    }
   ],
   "source": [
    "import numpy as np\n",
    "import pandas as pd\n",
    "import yfinance as yf\n",
    "from sklearn.preprocessing import MinMaxScaler\n",
    "from tensorflow.keras.models import Sequential\n",
    "from tensorflow.keras.layers import LSTM, Dense\n",
    "import alpaca_trade_api as tradeapi\n",
    "\n",
    "print(\"All imports resolved successfully!\")"
   ]
  },
  {
   "cell_type": "code",
   "execution_count": 3,
   "metadata": {
    "id": "x3EiPx3EWw-1"
   },
   "outputs": [],
   "source": [
    "import os\n",
    "\n",
    "os.environ[\"ALPACA_API_KEY\"] = \"PKREM5M6ZOE7JH3J1HN9\"\n",
    "os.environ[\"ALPACA_SECRET_KEY\"] = \"l6t6m75KPTx1i1TeVAClR2jjVF7p50cazB8ZYzKX\""
   ]
  },
  {
   "cell_type": "code",
   "execution_count": null,
   "metadata": {
    "colab": {
     "base_uri": "https://localhost:8080/"
    },
    "id": "JFU-pDoWmMGh",
    "outputId": "7ba1175b-a455-4907-d788-de5afca9a90c"
   },
   "outputs": [],
   "source": []
  },
  {
   "cell_type": "code",
   "execution_count": 4,
   "metadata": {},
   "outputs": [
    {
     "name": "stderr",
     "output_type": "stream",
     "text": [
      "[*********************100%***********************]  1 of 1 completed\n"
     ]
    },
    {
     "name": "stdout",
     "output_type": "stream",
     "text": [
      "❌ Failed to download NVDA data (attempt 1/3): No data returned for NVDA\n"
     ]
    },
    {
     "name": "stderr",
     "output_type": "stream",
     "text": [
      "[*********************100%***********************]  1 of 1 completed\n"
     ]
    },
    {
     "name": "stdout",
     "output_type": "stream",
     "text": [
      "❌ Failed to download NVDA data (attempt 2/3): No data returned for NVDA\n"
     ]
    },
    {
     "name": "stderr",
     "output_type": "stream",
     "text": [
      "[*********************100%***********************]  1 of 1 completed\n"
     ]
    },
    {
     "name": "stdout",
     "output_type": "stream",
     "text": [
      "❌ Failed to download NVDA data (attempt 3/3): No data returned for NVDA\n",
      "⚠️ All retries failed. Falling back to mock data for NVDA.\n",
      "Loaded data: 100 points\n",
      "Model R² Score: 0.9737\n",
      "Starting trading loop...\n",
      "AI Trader bought: $98.53\n",
      "AI Trader sold: $99.15, Profit: $0.62\n",
      "AI Trader bought: $98.31\n",
      "AI Trader sold: $97.80, Profit: $-0.51\n",
      "AI Trader bought: $97.02\n",
      "AI Trader sold: $97.43, Profit: $0.41\n",
      "AI Trader bought: $97.78\n",
      "AI Trader sold: $97.28, Profit: $-0.50\n",
      "AI Trader bought: $97.17\n",
      "AI Trader sold: $97.64, Profit: $0.47\n",
      "AI Trader bought: $97.05\n",
      "AI Trader sold: $97.79, Profit: $0.74\n",
      "AI Trader bought: $97.91\n",
      "AI Trader sold: $98.69, Profit: $0.78\n",
      "AI Trader bought: $97.87\n",
      "AI Trader sold: $97.84, Profit: $-0.03\n",
      "AI Trader bought: $98.94\n",
      "AI Trader sold: $100.01, Profit: $1.07\n",
      "AI Trader bought: $99.03\n",
      "AI Trader sold: $100.64, Profit: $1.61\n",
      "AI Trader bought: $100.71\n",
      "AI Trader sold: $94.62, Profit: $-6.09\n",
      "AI Trader bought: $93.81\n",
      "AI Trader sold: $88.96, Profit: $-4.85\n",
      "AI Trader bought: $89.85\n",
      "AI Trader sold: $89.65, Profit: $-0.20\n",
      "AI Trader bought: $87.97\n",
      "AI Trader sold: $87.72, Profit: $-0.25\n",
      "AI Trader bought: $87.42\n",
      "AI Trader sold: $88.24, Profit: $0.82\n",
      "AI Trader bought: $87.45\n",
      "AI Trader sold: $87.32, Profit: $-0.13\n",
      "AI Trader bought: $86.95\n",
      "AI Trader sold: $87.49, Profit: $0.54\n",
      "AI Trader bought: $86.79\n",
      "AI Trader sold: $87.23, Profit: $0.44\n",
      "AI Trader bought: $86.87\n",
      "AI Trader sold: $86.09, Profit: $-0.78\n",
      "AI Trader bought: $85.22\n",
      "AI Trader sold: $86.57, Profit: $1.35\n",
      "AI Trader bought: $85.63\n",
      "AI Trader sold: $86.13, Profit: $0.50\n",
      "AI Trader bought: $86.12\n",
      "AI Trader sold: $86.57, Profit: $0.45\n"
     ]
    }
   ],
   "source": [
    "import os\n",
    "import time\n",
    "import numpy as np\n",
    "import yfinance as yf\n",
    "import pandas as pd\n",
    "from sklearn.linear_model import LinearRegression\n",
    "from alpaca.trading.client import TradingClient\n",
    "from alpaca.trading.requests import LimitOrderRequest\n",
    "from alpaca.trading.enums import OrderSide, TimeInForce\n",
    "import logging\n",
    "\n",
    "# ✅ Fetch API keys from environment variables\n",
    "ALPACA_API_KEY = os.getenv(\"ALPACA_API_KEY\")\n",
    "ALPACA_SECRET_KEY = os.getenv(\"ALPACA_SECRET_KEY\")\n",
    "trading_client = TradingClient(ALPACA_API_KEY, ALPACA_SECRET_KEY, paper=True) if ALPACA_API_KEY and ALPACA_SECRET_KEY else None\n",
    "\n",
    "# Set up logging\n",
    "logging.basicConfig(filename='trading_bot.log', level=logging.INFO, format='%(asctime)s - %(message)s')\n",
    "\n",
    "# ✅ Function to download stock data with retries\n",
    "def dataset_loader(stock_name, max_retries=3):\n",
    "    for attempt in range(1, max_retries + 1):\n",
    "        try:\n",
    "            dataset = yf.download(stock_name, start=\"2010-01-01\", end=\"2025-01-01\")\n",
    "            if dataset.empty:\n",
    "                raise ValueError(f\"No data returned for {stock_name}\")\n",
    "            return dataset['Close']\n",
    "        except Exception as e:\n",
    "            print(f\"❌ Failed to download {stock_name} data (attempt {attempt}/{max_retries}): {e}\")\n",
    "            time.sleep(2 ** attempt)  # Exponential backoff\n",
    "\n",
    "    print(f\"⚠️ All retries failed. Falling back to mock data for {stock_name}.\")\n",
    "    return pd.Series(100 + np.cumsum(np.random.normal(0, 1, 100)))  # Random walk mock data\n",
    "\n",
    "# ✅ Place order function\n",
    "def place_order(symbol, qty, side, limit_price):\n",
    "    if trading_client:\n",
    "        try:\n",
    "            order = LimitOrderRequest(\n",
    "                symbol=symbol,\n",
    "                qty=qty,\n",
    "                side=side,\n",
    "                time_in_force=TimeInForce.DAY,\n",
    "                limit_price=round(limit_price, 2)\n",
    "            )\n",
    "            trading_client.submit_order(order)\n",
    "            logging.info(f\"✅ REAL ORDER PLACED: {side} {qty} shares of {symbol} at ${round(limit_price, 2)}\")\n",
    "        except Exception as e:\n",
    "            logging.error(f\"❌ Error placing {side} order for {symbol}: {str(e)}\")\n",
    "            if hasattr(e, 'response') and hasattr(e.response, 'json'):\n",
    "                logging.error(f\"API Response: {e.response.json()}\")\n",
    "    else:\n",
    "        logging.info(f\"🔄 Simulated {side} order for {qty} shares of {symbol}.\")\n",
    "\n",
    "# ✅ Machine Learning Trader\n",
    "class ML_Trader:\n",
    "    def __init__(self, window_size=10):\n",
    "        self.window_size = window_size\n",
    "        self.model = LinearRegression()\n",
    "        self.inventory = []\n",
    "\n",
    "    def train(self, data):\n",
    "        X, y = [], []\n",
    "        for i in range(len(data) - self.window_size):\n",
    "            X.append(data.iloc[i:i + self.window_size].values)\n",
    "            y.append(data.iloc[i + self.window_size])\n",
    "        X, y = np.array(X), np.array(y)\n",
    "        if X.shape[0] > 0:\n",
    "            self.model.fit(X, y)\n",
    "        else:\n",
    "            raise ValueError(\"Not enough data to train the model!\")\n",
    "\n",
    "    def predict(self, recent_data):\n",
    "        return self.model.predict(np.array(recent_data).reshape(1, -1))[0]\n",
    "\n",
    "# ✅ Load data and train model\n",
    "stock_name = 'NVDA'\n",
    "data = dataset_loader(stock_name)\n",
    "window_size = 10\n",
    "trader = ML_Trader(window_size)\n",
    "trader.train(data)\n",
    "\n",
    "print(f\"Loaded data: {len(data)} points\")\n",
    "\n",
    "# ✅ Ensure correct input shape for R² score calculation\n",
    "if len(data) > window_size:\n",
    "    X_test = np.array([data.iloc[i:i + window_size].values for i in range(len(data) - window_size)])\n",
    "    y_test = np.array(data.iloc[window_size:])\n",
    "    print(f\"Model R² Score: {trader.model.score(X_test, y_test):.4f}\")\n",
    "\n",
    "print(\"Starting trading loop...\")\n",
    "\n",
    "for t in range(window_size, len(data) - 1):\n",
    "    recent_data = data.iloc[t - window_size:t].values.flatten()\n",
    "    predicted_price = trader.predict(recent_data).item()\n",
    "    actual_price = round(data.iloc[t].item(), 2)\n",
    "\n",
    "    time.sleep(5)  # Prevents wash trade detection\n",
    "\n",
    "    # ✅ Buy Condition\n",
    "    if predicted_price > actual_price and len(trader.inventory) == 0:\n",
    "        trader.inventory.append(actual_price)\n",
    "        print(f\"AI Trader bought: ${actual_price:.2f}\")\n",
    "        place_order(stock_name, 10, OrderSide.BUY, actual_price)\n",
    "\n",
    "    # ✅ Sell Condition\n",
    "    elif predicted_price < actual_price and len(trader.inventory) > 0:\n",
    "        time.sleep(10)  # Delay before selling\n",
    "        buy_price = trader.inventory.pop(0)\n",
    "        profit = round(actual_price - buy_price, 2)\n",
    "        print(f\"AI Trader sold: ${actual_price:.2f}, Profit: ${profit:.2f}\")\n",
    "        place_order(stock_name, 10, OrderSide.SELL, actual_price)"
   ]
  },
  {
   "cell_type": "code",
   "execution_count": null,
   "metadata": {},
   "outputs": [],
   "source": []
  },
  {
   "cell_type": "code",
   "execution_count": null,
   "metadata": {},
   "outputs": [],
   "source": []
  }
 ],
 "metadata": {
  "colab": {
   "provenance": []
  },
  "kernelspec": {
   "display_name": "Python 3 (ipykernel)",
   "language": "python",
   "name": "python3"
  },
  "language_info": {
   "codemirror_mode": {
    "name": "ipython",
    "version": 3
   },
   "file_extension": ".py",
   "mimetype": "text/x-python",
   "name": "python",
   "nbconvert_exporter": "python",
   "pygments_lexer": "ipython3",
   "version": "3.12.4"
  }
 },
 "nbformat": 4,
 "nbformat_minor": 4
}
